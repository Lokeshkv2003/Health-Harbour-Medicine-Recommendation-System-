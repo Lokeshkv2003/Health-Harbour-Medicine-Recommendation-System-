{
 "cells": [
  {
   "cell_type": "markdown",
   "id": "81dbe748",
   "metadata": {},
   "source": [
    "# LOADING NECESSARY LIBRARIES"
   ]
  },
  {
   "cell_type": "code",
   "execution_count": 135,
   "id": "0bf84aac",
   "metadata": {},
   "outputs": [
    {
     "name": "stdout",
     "output_type": "stream",
     "text": [
      "Requirement already satisfied: scikit-learn in c:\\users\\lokes\\appdata\\local\\programs\\python\\python311\\lib\\site-packages (1.5.2)\n",
      "Requirement already satisfied: numpy>=1.19.5 in c:\\users\\lokes\\appdata\\local\\programs\\python\\python311\\lib\\site-packages (from scikit-learn) (1.24.1)\n",
      "Requirement already satisfied: scipy>=1.6.0 in c:\\users\\lokes\\appdata\\local\\programs\\python\\python311\\lib\\site-packages (from scikit-learn) (1.14.1)\n",
      "Requirement already satisfied: joblib>=1.2.0 in c:\\users\\lokes\\appdata\\local\\programs\\python\\python311\\lib\\site-packages (from scikit-learn) (1.4.2)\n",
      "Requirement already satisfied: threadpoolctl>=3.1.0 in c:\\users\\lokes\\appdata\\local\\programs\\python\\python311\\lib\\site-packages (from scikit-learn) (3.5.0)\n"
     ]
    }
   ],
   "source": [
    "!pip install scikit-learn\n",
    "import numpy as np\n",
    "import pandas as pd\n",
    "from sklearn.preprocessing import OneHotEncoder, LabelEncoder\n",
    "from sklearn.metrics import accuracy_score, confusion_matrix, classification_report"
   ]
  },
  {
   "cell_type": "markdown",
   "id": "b389d467",
   "metadata": {},
   "source": [
    "# DATA COLLECTION"
   ]
  },
  {
   "cell_type": "code",
   "execution_count": 136,
   "id": "97bb5508",
   "metadata": {},
   "outputs": [],
   "source": [
    "# Loading the symptoms dataset\n",
    "df = pd.read_csv(\"symtoms_df.csv\")\n",
    "medicine=pd.read_csv(\"medications1.csv.csv\")\n",
    "workout=pd.read_csv(\"workout_df.csv\")\n",
    "precaution = pd.read_csv(\"precautions_df.csv\")\n",
    "diet=pd.read_csv(\"diets.csv\")\n"
   ]
  },
  {
   "cell_type": "code",
   "execution_count": 137,
   "id": "f385f3a6",
   "metadata": {},
   "outputs": [
    {
     "data": {
      "text/html": [
       "<div>\n",
       "<style scoped>\n",
       "    .dataframe tbody tr th:only-of-type {\n",
       "        vertical-align: middle;\n",
       "    }\n",
       "\n",
       "    .dataframe tbody tr th {\n",
       "        vertical-align: top;\n",
       "    }\n",
       "\n",
       "    .dataframe thead th {\n",
       "        text-align: right;\n",
       "    }\n",
       "</style>\n",
       "<table border=\"1\" class=\"dataframe\">\n",
       "  <thead>\n",
       "    <tr style=\"text-align: right;\">\n",
       "      <th></th>\n",
       "      <th>Unnamed: 0</th>\n",
       "      <th>Disease</th>\n",
       "      <th>Symptom_1</th>\n",
       "      <th>Symptom_2</th>\n",
       "      <th>Symptom_3</th>\n",
       "      <th>Symptom_4</th>\n",
       "    </tr>\n",
       "  </thead>\n",
       "  <tbody>\n",
       "    <tr>\n",
       "      <th>0</th>\n",
       "      <td>0</td>\n",
       "      <td>Fungal infection</td>\n",
       "      <td>itching</td>\n",
       "      <td>skin_rash</td>\n",
       "      <td>nodal_skin_eruptions</td>\n",
       "      <td>dischromic _patches</td>\n",
       "    </tr>\n",
       "    <tr>\n",
       "      <th>1</th>\n",
       "      <td>1</td>\n",
       "      <td>Fungal infection</td>\n",
       "      <td>skin_rash</td>\n",
       "      <td>nodal_skin_eruptions</td>\n",
       "      <td>dischromic _patches</td>\n",
       "      <td>NaN</td>\n",
       "    </tr>\n",
       "    <tr>\n",
       "      <th>2</th>\n",
       "      <td>2</td>\n",
       "      <td>Fungal infection</td>\n",
       "      <td>itching</td>\n",
       "      <td>nodal_skin_eruptions</td>\n",
       "      <td>dischromic _patches</td>\n",
       "      <td>NaN</td>\n",
       "    </tr>\n",
       "    <tr>\n",
       "      <th>3</th>\n",
       "      <td>3</td>\n",
       "      <td>Fungal infection</td>\n",
       "      <td>itching</td>\n",
       "      <td>skin_rash</td>\n",
       "      <td>dischromic _patches</td>\n",
       "      <td>NaN</td>\n",
       "    </tr>\n",
       "    <tr>\n",
       "      <th>4</th>\n",
       "      <td>4</td>\n",
       "      <td>Fungal infection</td>\n",
       "      <td>itching</td>\n",
       "      <td>skin_rash</td>\n",
       "      <td>nodal_skin_eruptions</td>\n",
       "      <td>NaN</td>\n",
       "    </tr>\n",
       "    <tr>\n",
       "      <th>5</th>\n",
       "      <td>5</td>\n",
       "      <td>Fungal infection</td>\n",
       "      <td>skin_rash</td>\n",
       "      <td>nodal_skin_eruptions</td>\n",
       "      <td>dischromic _patches</td>\n",
       "      <td>NaN</td>\n",
       "    </tr>\n",
       "    <tr>\n",
       "      <th>6</th>\n",
       "      <td>6</td>\n",
       "      <td>Fungal infection</td>\n",
       "      <td>itching</td>\n",
       "      <td>nodal_skin_eruptions</td>\n",
       "      <td>dischromic _patches</td>\n",
       "      <td>NaN</td>\n",
       "    </tr>\n",
       "    <tr>\n",
       "      <th>7</th>\n",
       "      <td>7</td>\n",
       "      <td>Fungal infection</td>\n",
       "      <td>itching</td>\n",
       "      <td>skin_rash</td>\n",
       "      <td>dischromic _patches</td>\n",
       "      <td>NaN</td>\n",
       "    </tr>\n",
       "    <tr>\n",
       "      <th>8</th>\n",
       "      <td>8</td>\n",
       "      <td>Fungal infection</td>\n",
       "      <td>itching</td>\n",
       "      <td>skin_rash</td>\n",
       "      <td>nodal_skin_eruptions</td>\n",
       "      <td>NaN</td>\n",
       "    </tr>\n",
       "    <tr>\n",
       "      <th>9</th>\n",
       "      <td>9</td>\n",
       "      <td>Fungal infection</td>\n",
       "      <td>itching</td>\n",
       "      <td>skin_rash</td>\n",
       "      <td>nodal_skin_eruptions</td>\n",
       "      <td>dischromic _patches</td>\n",
       "    </tr>\n",
       "  </tbody>\n",
       "</table>\n",
       "</div>"
      ],
      "text/plain": [
       "   Unnamed: 0           Disease   Symptom_1              Symptom_2  \\\n",
       "0           0  Fungal infection     itching              skin_rash   \n",
       "1           1  Fungal infection   skin_rash   nodal_skin_eruptions   \n",
       "2           2  Fungal infection     itching   nodal_skin_eruptions   \n",
       "3           3  Fungal infection     itching              skin_rash   \n",
       "4           4  Fungal infection     itching              skin_rash   \n",
       "5           5  Fungal infection   skin_rash   nodal_skin_eruptions   \n",
       "6           6  Fungal infection     itching   nodal_skin_eruptions   \n",
       "7           7  Fungal infection     itching              skin_rash   \n",
       "8           8  Fungal infection     itching              skin_rash   \n",
       "9           9  Fungal infection     itching              skin_rash   \n",
       "\n",
       "               Symptom_3             Symptom_4  \n",
       "0   nodal_skin_eruptions   dischromic _patches  \n",
       "1    dischromic _patches                   NaN  \n",
       "2    dischromic _patches                   NaN  \n",
       "3    dischromic _patches                   NaN  \n",
       "4   nodal_skin_eruptions                   NaN  \n",
       "5    dischromic _patches                   NaN  \n",
       "6    dischromic _patches                   NaN  \n",
       "7    dischromic _patches                   NaN  \n",
       "8   nodal_skin_eruptions                   NaN  \n",
       "9   nodal_skin_eruptions   dischromic _patches  "
      ]
     },
     "execution_count": 137,
     "metadata": {},
     "output_type": "execute_result"
    }
   ],
   "source": [
    "df.head(10)"
   ]
  },
  {
   "cell_type": "code",
   "execution_count": 138,
   "id": "879317b0",
   "metadata": {},
   "outputs": [],
   "source": [
    "#loading medicine data set\n",
    "medicine=pd.read_csv(\"medications1.csv.csv\")"
   ]
  },
  {
   "cell_type": "code",
   "execution_count": 139,
   "id": "fd451634",
   "metadata": {},
   "outputs": [
    {
     "data": {
      "text/html": [
       "<div>\n",
       "<style scoped>\n",
       "    .dataframe tbody tr th:only-of-type {\n",
       "        vertical-align: middle;\n",
       "    }\n",
       "\n",
       "    .dataframe tbody tr th {\n",
       "        vertical-align: top;\n",
       "    }\n",
       "\n",
       "    .dataframe thead th {\n",
       "        text-align: right;\n",
       "    }\n",
       "</style>\n",
       "<table border=\"1\" class=\"dataframe\">\n",
       "  <thead>\n",
       "    <tr style=\"text-align: right;\">\n",
       "      <th></th>\n",
       "      <th>Disease</th>\n",
       "      <th>Medication</th>\n",
       "    </tr>\n",
       "  </thead>\n",
       "  <tbody>\n",
       "    <tr>\n",
       "      <th>0</th>\n",
       "      <td>Fungal infection</td>\n",
       "      <td>['Antifungal Cream', 'Fluconazole', 'Terbinafi...</td>\n",
       "    </tr>\n",
       "    <tr>\n",
       "      <th>1</th>\n",
       "      <td>Allergy</td>\n",
       "      <td>['Antihistamines', 'Decongestants', 'Epinephri...</td>\n",
       "    </tr>\n",
       "    <tr>\n",
       "      <th>2</th>\n",
       "      <td>GERD</td>\n",
       "      <td>['Proton Pump Inhibitors (PPIs)', 'H2 Blockers...</td>\n",
       "    </tr>\n",
       "  </tbody>\n",
       "</table>\n",
       "</div>"
      ],
      "text/plain": [
       "            Disease                                         Medication\n",
       "0  Fungal infection  ['Antifungal Cream', 'Fluconazole', 'Terbinafi...\n",
       "1           Allergy  ['Antihistamines', 'Decongestants', 'Epinephri...\n",
       "2              GERD  ['Proton Pump Inhibitors (PPIs)', 'H2 Blockers..."
      ]
     },
     "execution_count": 139,
     "metadata": {},
     "output_type": "execute_result"
    }
   ],
   "source": [
    "medicine.head(3)"
   ]
  },
  {
   "cell_type": "code",
   "execution_count": 140,
   "id": "076bf7d9",
   "metadata": {},
   "outputs": [],
   "source": [
    "precaution = pd.read_csv(\"precautions_df.csv\")"
   ]
  },
  {
   "cell_type": "code",
   "execution_count": 141,
   "id": "6286d4f9",
   "metadata": {},
   "outputs": [
    {
     "data": {
      "text/html": [
       "<div>\n",
       "<style scoped>\n",
       "    .dataframe tbody tr th:only-of-type {\n",
       "        vertical-align: middle;\n",
       "    }\n",
       "\n",
       "    .dataframe tbody tr th {\n",
       "        vertical-align: top;\n",
       "    }\n",
       "\n",
       "    .dataframe thead th {\n",
       "        text-align: right;\n",
       "    }\n",
       "</style>\n",
       "<table border=\"1\" class=\"dataframe\">\n",
       "  <thead>\n",
       "    <tr style=\"text-align: right;\">\n",
       "      <th></th>\n",
       "      <th>Unnamed: 0</th>\n",
       "      <th>Disease</th>\n",
       "      <th>Precaution_1</th>\n",
       "      <th>Precaution_2</th>\n",
       "      <th>Precaution_3</th>\n",
       "      <th>Precaution_4</th>\n",
       "    </tr>\n",
       "  </thead>\n",
       "  <tbody>\n",
       "    <tr>\n",
       "      <th>0</th>\n",
       "      <td>0</td>\n",
       "      <td>Drug Reaction</td>\n",
       "      <td>stop irritation</td>\n",
       "      <td>consult nearest hospital</td>\n",
       "      <td>stop taking drug</td>\n",
       "      <td>follow up</td>\n",
       "    </tr>\n",
       "    <tr>\n",
       "      <th>1</th>\n",
       "      <td>1</td>\n",
       "      <td>Malaria</td>\n",
       "      <td>Consult nearest hospital</td>\n",
       "      <td>avoid oily food</td>\n",
       "      <td>avoid non veg food</td>\n",
       "      <td>keep mosquitos out</td>\n",
       "    </tr>\n",
       "    <tr>\n",
       "      <th>2</th>\n",
       "      <td>2</td>\n",
       "      <td>Allergy</td>\n",
       "      <td>apply calamine</td>\n",
       "      <td>cover area with bandage</td>\n",
       "      <td>NaN</td>\n",
       "      <td>use ice to compress itching</td>\n",
       "    </tr>\n",
       "  </tbody>\n",
       "</table>\n",
       "</div>"
      ],
      "text/plain": [
       "   Unnamed: 0        Disease              Precaution_1  \\\n",
       "0           0  Drug Reaction           stop irritation   \n",
       "1           1        Malaria  Consult nearest hospital   \n",
       "2           2        Allergy            apply calamine   \n",
       "\n",
       "               Precaution_2        Precaution_3                 Precaution_4  \n",
       "0  consult nearest hospital    stop taking drug                    follow up  \n",
       "1           avoid oily food  avoid non veg food           keep mosquitos out  \n",
       "2   cover area with bandage                 NaN  use ice to compress itching  "
      ]
     },
     "execution_count": 141,
     "metadata": {},
     "output_type": "execute_result"
    }
   ],
   "source": [
    "precaution.head(3)"
   ]
  },
  {
   "cell_type": "code",
   "execution_count": 142,
   "id": "dbfdad82",
   "metadata": {},
   "outputs": [],
   "source": [
    "workout=pd.read_csv(\"workout_df.csv\")"
   ]
  },
  {
   "cell_type": "code",
   "execution_count": 143,
   "id": "743959ff",
   "metadata": {},
   "outputs": [
    {
     "data": {
      "text/html": [
       "<div>\n",
       "<style scoped>\n",
       "    .dataframe tbody tr th:only-of-type {\n",
       "        vertical-align: middle;\n",
       "    }\n",
       "\n",
       "    .dataframe tbody tr th {\n",
       "        vertical-align: top;\n",
       "    }\n",
       "\n",
       "    .dataframe thead th {\n",
       "        text-align: right;\n",
       "    }\n",
       "</style>\n",
       "<table border=\"1\" class=\"dataframe\">\n",
       "  <thead>\n",
       "    <tr style=\"text-align: right;\">\n",
       "      <th></th>\n",
       "      <th>Unnamed: 0.1</th>\n",
       "      <th>Unnamed: 0</th>\n",
       "      <th>disease</th>\n",
       "      <th>workout</th>\n",
       "    </tr>\n",
       "  </thead>\n",
       "  <tbody>\n",
       "    <tr>\n",
       "      <th>0</th>\n",
       "      <td>0</td>\n",
       "      <td>0</td>\n",
       "      <td>Fungal infection</td>\n",
       "      <td>Avoid sugary foods</td>\n",
       "    </tr>\n",
       "    <tr>\n",
       "      <th>1</th>\n",
       "      <td>1</td>\n",
       "      <td>1</td>\n",
       "      <td>Fungal infection</td>\n",
       "      <td>Consume probiotics</td>\n",
       "    </tr>\n",
       "  </tbody>\n",
       "</table>\n",
       "</div>"
      ],
      "text/plain": [
       "   Unnamed: 0.1  Unnamed: 0           disease             workout\n",
       "0             0           0  Fungal infection  Avoid sugary foods\n",
       "1             1           1  Fungal infection  Consume probiotics"
      ]
     },
     "execution_count": 143,
     "metadata": {},
     "output_type": "execute_result"
    }
   ],
   "source": [
    "workout.head(2)"
   ]
  },
  {
   "cell_type": "code",
   "execution_count": 144,
   "id": "5517b859",
   "metadata": {},
   "outputs": [],
   "source": [
    "df.drop(workout['Unnamed: 0.1'],inplace=True)\n"
   ]
  },
  {
   "cell_type": "code",
   "execution_count": 145,
   "id": "4494d285",
   "metadata": {},
   "outputs": [],
   "source": [
    "grouped_workout = workout.groupby('disease')['workout'].agg(list).reset_index()"
   ]
  },
  {
   "cell_type": "code",
   "execution_count": 146,
   "id": "8d0e3437",
   "metadata": {},
   "outputs": [
    {
     "data": {
      "text/html": [
       "<div>\n",
       "<style scoped>\n",
       "    .dataframe tbody tr th:only-of-type {\n",
       "        vertical-align: middle;\n",
       "    }\n",
       "\n",
       "    .dataframe tbody tr th {\n",
       "        vertical-align: top;\n",
       "    }\n",
       "\n",
       "    .dataframe thead th {\n",
       "        text-align: right;\n",
       "    }\n",
       "</style>\n",
       "<table border=\"1\" class=\"dataframe\">\n",
       "  <thead>\n",
       "    <tr style=\"text-align: right;\">\n",
       "      <th></th>\n",
       "      <th>disease</th>\n",
       "      <th>workout</th>\n",
       "    </tr>\n",
       "  </thead>\n",
       "  <tbody>\n",
       "    <tr>\n",
       "      <th>0</th>\n",
       "      <td>(vertigo) Paroymsal  Positional Vertigo</td>\n",
       "      <td>[Avoid trigger foods (caffeine, alcohol), Limi...</td>\n",
       "    </tr>\n",
       "    <tr>\n",
       "      <th>1</th>\n",
       "      <td>AIDS</td>\n",
       "      <td>[Follow a balanced and nutritious diet, Includ...</td>\n",
       "    </tr>\n",
       "    <tr>\n",
       "      <th>2</th>\n",
       "      <td>Acne</td>\n",
       "      <td>[Consume a balanced diet, Limit dairy and high...</td>\n",
       "    </tr>\n",
       "    <tr>\n",
       "      <th>3</th>\n",
       "      <td>Alcoholic hepatitis</td>\n",
       "      <td>[Avoid alcohol consumption, Follow a balanced ...</td>\n",
       "    </tr>\n",
       "    <tr>\n",
       "      <th>4</th>\n",
       "      <td>Allergy</td>\n",
       "      <td>[Avoid allergenic foods, Consume anti-inflamma...</td>\n",
       "    </tr>\n",
       "    <tr>\n",
       "      <th>5</th>\n",
       "      <td>Arthritis</td>\n",
       "      <td>[Consume anti-inflammatory foods, Include omeg...</td>\n",
       "    </tr>\n",
       "    <tr>\n",
       "      <th>6</th>\n",
       "      <td>Bronchial Asthma</td>\n",
       "      <td>[Include anti-inflammatory foods, Consume omeg...</td>\n",
       "    </tr>\n",
       "  </tbody>\n",
       "</table>\n",
       "</div>"
      ],
      "text/plain": [
       "                                   disease  \\\n",
       "0  (vertigo) Paroymsal  Positional Vertigo   \n",
       "1                                     AIDS   \n",
       "2                                     Acne   \n",
       "3                      Alcoholic hepatitis   \n",
       "4                                  Allergy   \n",
       "5                                Arthritis   \n",
       "6                         Bronchial Asthma   \n",
       "\n",
       "                                             workout  \n",
       "0  [Avoid trigger foods (caffeine, alcohol), Limi...  \n",
       "1  [Follow a balanced and nutritious diet, Includ...  \n",
       "2  [Consume a balanced diet, Limit dairy and high...  \n",
       "3  [Avoid alcohol consumption, Follow a balanced ...  \n",
       "4  [Avoid allergenic foods, Consume anti-inflamma...  \n",
       "5  [Consume anti-inflammatory foods, Include omeg...  \n",
       "6  [Include anti-inflammatory foods, Consume omeg...  "
      ]
     },
     "execution_count": 146,
     "metadata": {},
     "output_type": "execute_result"
    }
   ],
   "source": [
    "grouped_workout.head(7)"
   ]
  },
  {
   "cell_type": "code",
   "execution_count": 147,
   "id": "803d848c",
   "metadata": {},
   "outputs": [],
   "source": [
    "diet=pd.read_csv(\"diets.csv\")\n"
   ]
  },
  {
   "cell_type": "code",
   "execution_count": 148,
   "id": "021bb227",
   "metadata": {},
   "outputs": [
    {
     "data": {
      "text/html": [
       "<div>\n",
       "<style scoped>\n",
       "    .dataframe tbody tr th:only-of-type {\n",
       "        vertical-align: middle;\n",
       "    }\n",
       "\n",
       "    .dataframe tbody tr th {\n",
       "        vertical-align: top;\n",
       "    }\n",
       "\n",
       "    .dataframe thead th {\n",
       "        text-align: right;\n",
       "    }\n",
       "</style>\n",
       "<table border=\"1\" class=\"dataframe\">\n",
       "  <thead>\n",
       "    <tr style=\"text-align: right;\">\n",
       "      <th></th>\n",
       "      <th>Disease</th>\n",
       "      <th>Diet</th>\n",
       "    </tr>\n",
       "  </thead>\n",
       "  <tbody>\n",
       "    <tr>\n",
       "      <th>0</th>\n",
       "      <td>Fungal infection</td>\n",
       "      <td>['Antifungal Diet', 'Probiotics', 'Garlic', 'C...</td>\n",
       "    </tr>\n",
       "    <tr>\n",
       "      <th>1</th>\n",
       "      <td>Allergy</td>\n",
       "      <td>['Elimination Diet', 'Omega-3-rich foods', 'Vi...</td>\n",
       "    </tr>\n",
       "    <tr>\n",
       "      <th>2</th>\n",
       "      <td>GERD</td>\n",
       "      <td>['Low-Acid Diet', 'Fiber-rich foods', 'Ginger'...</td>\n",
       "    </tr>\n",
       "    <tr>\n",
       "      <th>3</th>\n",
       "      <td>Chronic cholestasis</td>\n",
       "      <td>['Low-Fat Diet', 'High-Fiber Diet', 'Lean prot...</td>\n",
       "    </tr>\n",
       "    <tr>\n",
       "      <th>4</th>\n",
       "      <td>Drug Reaction</td>\n",
       "      <td>['Antihistamine Diet', 'Omega-3-rich foods', '...</td>\n",
       "    </tr>\n",
       "  </tbody>\n",
       "</table>\n",
       "</div>"
      ],
      "text/plain": [
       "               Disease                                               Diet\n",
       "0     Fungal infection  ['Antifungal Diet', 'Probiotics', 'Garlic', 'C...\n",
       "1              Allergy  ['Elimination Diet', 'Omega-3-rich foods', 'Vi...\n",
       "2                 GERD  ['Low-Acid Diet', 'Fiber-rich foods', 'Ginger'...\n",
       "3  Chronic cholestasis  ['Low-Fat Diet', 'High-Fiber Diet', 'Lean prot...\n",
       "4        Drug Reaction  ['Antihistamine Diet', 'Omega-3-rich foods', '..."
      ]
     },
     "execution_count": 148,
     "metadata": {},
     "output_type": "execute_result"
    }
   ],
   "source": [
    "diet.head(5)\n"
   ]
  },
  {
   "cell_type": "code",
   "execution_count": null,
   "id": "8e53a30d",
   "metadata": {},
   "outputs": [],
   "source": []
  },
  {
   "cell_type": "markdown",
   "id": "bb110daf",
   "metadata": {},
   "source": [
    "# DATA ANALYSIS "
   ]
  },
  {
   "cell_type": "code",
   "execution_count": 149,
   "id": "f043d84e",
   "metadata": {},
   "outputs": [
    {
     "data": {
      "text/html": [
       "<div>\n",
       "<style scoped>\n",
       "    .dataframe tbody tr th:only-of-type {\n",
       "        vertical-align: middle;\n",
       "    }\n",
       "\n",
       "    .dataframe tbody tr th {\n",
       "        vertical-align: top;\n",
       "    }\n",
       "\n",
       "    .dataframe thead th {\n",
       "        text-align: right;\n",
       "    }\n",
       "</style>\n",
       "<table border=\"1\" class=\"dataframe\">\n",
       "  <thead>\n",
       "    <tr style=\"text-align: right;\">\n",
       "      <th></th>\n",
       "      <th>Unnamed: 0</th>\n",
       "    </tr>\n",
       "  </thead>\n",
       "  <tbody>\n",
       "    <tr>\n",
       "      <th>count</th>\n",
       "      <td>4510.000000</td>\n",
       "    </tr>\n",
       "    <tr>\n",
       "      <th>mean</th>\n",
       "      <td>2664.500000</td>\n",
       "    </tr>\n",
       "    <tr>\n",
       "      <th>std</th>\n",
       "      <td>1302.069187</td>\n",
       "    </tr>\n",
       "    <tr>\n",
       "      <th>min</th>\n",
       "      <td>410.000000</td>\n",
       "    </tr>\n",
       "    <tr>\n",
       "      <th>25%</th>\n",
       "      <td>1537.250000</td>\n",
       "    </tr>\n",
       "    <tr>\n",
       "      <th>50%</th>\n",
       "      <td>2664.500000</td>\n",
       "    </tr>\n",
       "    <tr>\n",
       "      <th>75%</th>\n",
       "      <td>3791.750000</td>\n",
       "    </tr>\n",
       "    <tr>\n",
       "      <th>max</th>\n",
       "      <td>4919.000000</td>\n",
       "    </tr>\n",
       "  </tbody>\n",
       "</table>\n",
       "</div>"
      ],
      "text/plain": [
       "        Unnamed: 0\n",
       "count  4510.000000\n",
       "mean   2664.500000\n",
       "std    1302.069187\n",
       "min     410.000000\n",
       "25%    1537.250000\n",
       "50%    2664.500000\n",
       "75%    3791.750000\n",
       "max    4919.000000"
      ]
     },
     "execution_count": 149,
     "metadata": {},
     "output_type": "execute_result"
    }
   ],
   "source": [
    "df.describe()"
   ]
  },
  {
   "cell_type": "code",
   "execution_count": 150,
   "id": "021efa48",
   "metadata": {},
   "outputs": [
    {
     "data": {
      "text/plain": [
       "(4510, 6)"
      ]
     },
     "execution_count": 150,
     "metadata": {},
     "output_type": "execute_result"
    }
   ],
   "source": [
    "df.shape"
   ]
  },
  {
   "cell_type": "code",
   "execution_count": 151,
   "id": "ba403851",
   "metadata": {},
   "outputs": [
    {
     "data": {
      "text/plain": [
       "Unnamed: 0      0\n",
       "Disease         0\n",
       "Symptom_1       0\n",
       "Symptom_2       0\n",
       "Symptom_3       0\n",
       "Symptom_4     290\n",
       "dtype: int64"
      ]
     },
     "execution_count": 151,
     "metadata": {},
     "output_type": "execute_result"
    }
   ],
   "source": [
    "df.isnull().sum()"
   ]
  },
  {
   "cell_type": "code",
   "execution_count": 152,
   "id": "bc3af475",
   "metadata": {},
   "outputs": [
    {
     "data": {
      "text/plain": [
       "Unnamed: 0    4510\n",
       "Disease         41\n",
       "Symptom_1       34\n",
       "Symptom_2       48\n",
       "Symptom_3       54\n",
       "Symptom_4       50\n",
       "dtype: int64"
      ]
     },
     "execution_count": 152,
     "metadata": {},
     "output_type": "execute_result"
    }
   ],
   "source": [
    "df.nunique()"
   ]
  },
  {
   "cell_type": "code",
   "execution_count": 153,
   "id": "d2bbbcfe",
   "metadata": {},
   "outputs": [],
   "source": [
    "df.drop(\"Unnamed: 0\", axis=1, inplace=True)"
   ]
  },
  {
   "cell_type": "code",
   "execution_count": 154,
   "id": "f9e72371",
   "metadata": {},
   "outputs": [
    {
     "name": "stdout",
     "output_type": "stream",
     "text": [
      "<class 'pandas.core.frame.DataFrame'>\n",
      "RangeIndex: 4510 entries, 410 to 4919\n",
      "Data columns (total 5 columns):\n",
      " #   Column     Non-Null Count  Dtype \n",
      "---  ------     --------------  ----- \n",
      " 0   Disease    4510 non-null   object\n",
      " 1   Symptom_1  4510 non-null   object\n",
      " 2   Symptom_2  4510 non-null   object\n",
      " 3   Symptom_3  4510 non-null   object\n",
      " 4   Symptom_4  4220 non-null   object\n",
      "dtypes: object(5)\n",
      "memory usage: 176.3+ KB\n"
     ]
    }
   ],
   "source": [
    "df.info()"
   ]
  },
  {
   "cell_type": "markdown",
   "id": "a3e6b456",
   "metadata": {},
   "source": [
    "# DATA PRE-PROCESSING"
   ]
  },
  {
   "cell_type": "code",
   "execution_count": 155,
   "id": "8c30d675",
   "metadata": {},
   "outputs": [
    {
     "data": {
      "text/plain": [
       "Index([' acidity', ' back_pain', ' bladder_discomfort', ' breathlessness',\n",
       "       ' burning_micturition', ' chest_pain', ' chills', ' constipation',\n",
       "       ' continuous_sneezing', ' cough',\n",
       "       ...\n",
       "       ' swelling_joints', ' swelling_of_stomach', ' swollen_legs',\n",
       "       ' vomiting', ' watering_from_eyes', ' weight_loss',\n",
       "       ' yellow_crust_ooze', ' yellowing_of_eyes', ' yellowish_skin', 'nan'],\n",
       "      dtype='object', length=187)"
      ]
     },
     "execution_count": 155,
     "metadata": {},
     "output_type": "execute_result"
    }
   ],
   "source": [
    "# One-Hot Encoding of symptoms\n",
    "encoder = OneHotEncoder(sparse_output=False)  # Set sparse=False to return a dense array\n",
    "encoded = encoder.fit_transform(df[['Symptom_1', 'Symptom_2', 'Symptom_3', 'Symptom_4']])\n",
    "\n",
    "# Convert encoded data to DataFrame\n",
    "encoded_df = pd.DataFrame(encoded, columns=encoder.get_feature_names_out())\n",
    "encoded_df.columns = [col.replace('Symptom_4_', '') for col in encoded_df.columns]\n",
    "encoded_df.columns = [col.replace('Symptom_1_', '') for col in encoded_df.columns]\n",
    "encoded_df.columns = [col.replace('Symptom_3_', '') for col in encoded_df.columns]\n",
    "encoded_df.columns = [col.replace('Symptom_2_', '') for col in encoded_df.columns]\n",
    "\n",
    "\n",
    "# Display the encoded columns\n",
    "encoded_df.columns"
   ]
  },
  {
   "cell_type": "code",
   "execution_count": 156,
   "id": "817f1c7c",
   "metadata": {},
   "outputs": [],
   "source": [
    "#pip install pandas openpyxl"
   ]
  },
  {
   "cell_type": "code",
   "execution_count": 157,
   "id": "e7808d9c",
   "metadata": {},
   "outputs": [],
   "source": [
    "\n",
    "# Specify the path and filename for the Excel file\n",
    "#excel_file_path = 'output.xlsx'\n",
    "\n",
    "# Save the DataFrame to an Excel file\n",
    "#encoded_df.to_excel(excel_file_path, index=False, engine='openpyxl')"
   ]
  },
  {
   "cell_type": "code",
   "execution_count": 158,
   "id": "019aae65",
   "metadata": {},
   "outputs": [],
   "source": [
    "#encoded_df=pd.read_excel(\"output.xlsx\")"
   ]
  },
  {
   "cell_type": "code",
   "execution_count": 159,
   "id": "430b1165",
   "metadata": {},
   "outputs": [
    {
     "data": {
      "text/html": [
       "<div>\n",
       "<style scoped>\n",
       "    .dataframe tbody tr th:only-of-type {\n",
       "        vertical-align: middle;\n",
       "    }\n",
       "\n",
       "    .dataframe tbody tr th {\n",
       "        vertical-align: top;\n",
       "    }\n",
       "\n",
       "    .dataframe thead th {\n",
       "        text-align: right;\n",
       "    }\n",
       "</style>\n",
       "<table border=\"1\" class=\"dataframe\">\n",
       "  <thead>\n",
       "    <tr style=\"text-align: right;\">\n",
       "      <th></th>\n",
       "      <th>acidity</th>\n",
       "      <th>back_pain</th>\n",
       "      <th>bladder_discomfort</th>\n",
       "      <th>breathlessness</th>\n",
       "      <th>burning_micturition</th>\n",
       "      <th>chest_pain</th>\n",
       "      <th>chills</th>\n",
       "      <th>constipation</th>\n",
       "      <th>continuous_sneezing</th>\n",
       "      <th>cough</th>\n",
       "      <th>...</th>\n",
       "      <th>swelling_joints</th>\n",
       "      <th>swelling_of_stomach</th>\n",
       "      <th>swollen_legs</th>\n",
       "      <th>vomiting</th>\n",
       "      <th>watering_from_eyes</th>\n",
       "      <th>weight_loss</th>\n",
       "      <th>yellow_crust_ooze</th>\n",
       "      <th>yellowing_of_eyes</th>\n",
       "      <th>yellowish_skin</th>\n",
       "      <th>nan</th>\n",
       "    </tr>\n",
       "  </thead>\n",
       "  <tbody>\n",
       "    <tr>\n",
       "      <th>0</th>\n",
       "      <td>0.0</td>\n",
       "      <td>0.0</td>\n",
       "      <td>0.0</td>\n",
       "      <td>0.0</td>\n",
       "      <td>0.0</td>\n",
       "      <td>0.0</td>\n",
       "      <td>0.0</td>\n",
       "      <td>0.0</td>\n",
       "      <td>0.0</td>\n",
       "      <td>0.0</td>\n",
       "      <td>...</td>\n",
       "      <td>0.0</td>\n",
       "      <td>0.0</td>\n",
       "      <td>0.0</td>\n",
       "      <td>0.0</td>\n",
       "      <td>0.0</td>\n",
       "      <td>0.0</td>\n",
       "      <td>0.0</td>\n",
       "      <td>0.0</td>\n",
       "      <td>0.0</td>\n",
       "      <td>0.0</td>\n",
       "    </tr>\n",
       "    <tr>\n",
       "      <th>1</th>\n",
       "      <td>0.0</td>\n",
       "      <td>0.0</td>\n",
       "      <td>0.0</td>\n",
       "      <td>0.0</td>\n",
       "      <td>0.0</td>\n",
       "      <td>0.0</td>\n",
       "      <td>0.0</td>\n",
       "      <td>0.0</td>\n",
       "      <td>0.0</td>\n",
       "      <td>0.0</td>\n",
       "      <td>...</td>\n",
       "      <td>0.0</td>\n",
       "      <td>0.0</td>\n",
       "      <td>0.0</td>\n",
       "      <td>0.0</td>\n",
       "      <td>0.0</td>\n",
       "      <td>0.0</td>\n",
       "      <td>0.0</td>\n",
       "      <td>0.0</td>\n",
       "      <td>0.0</td>\n",
       "      <td>1.0</td>\n",
       "    </tr>\n",
       "    <tr>\n",
       "      <th>2</th>\n",
       "      <td>0.0</td>\n",
       "      <td>0.0</td>\n",
       "      <td>0.0</td>\n",
       "      <td>0.0</td>\n",
       "      <td>0.0</td>\n",
       "      <td>0.0</td>\n",
       "      <td>0.0</td>\n",
       "      <td>0.0</td>\n",
       "      <td>0.0</td>\n",
       "      <td>0.0</td>\n",
       "      <td>...</td>\n",
       "      <td>0.0</td>\n",
       "      <td>0.0</td>\n",
       "      <td>0.0</td>\n",
       "      <td>0.0</td>\n",
       "      <td>0.0</td>\n",
       "      <td>0.0</td>\n",
       "      <td>0.0</td>\n",
       "      <td>0.0</td>\n",
       "      <td>0.0</td>\n",
       "      <td>1.0</td>\n",
       "    </tr>\n",
       "    <tr>\n",
       "      <th>3</th>\n",
       "      <td>0.0</td>\n",
       "      <td>0.0</td>\n",
       "      <td>0.0</td>\n",
       "      <td>0.0</td>\n",
       "      <td>0.0</td>\n",
       "      <td>0.0</td>\n",
       "      <td>0.0</td>\n",
       "      <td>0.0</td>\n",
       "      <td>0.0</td>\n",
       "      <td>0.0</td>\n",
       "      <td>...</td>\n",
       "      <td>0.0</td>\n",
       "      <td>0.0</td>\n",
       "      <td>0.0</td>\n",
       "      <td>0.0</td>\n",
       "      <td>0.0</td>\n",
       "      <td>0.0</td>\n",
       "      <td>0.0</td>\n",
       "      <td>0.0</td>\n",
       "      <td>0.0</td>\n",
       "      <td>1.0</td>\n",
       "    </tr>\n",
       "    <tr>\n",
       "      <th>4</th>\n",
       "      <td>0.0</td>\n",
       "      <td>0.0</td>\n",
       "      <td>0.0</td>\n",
       "      <td>0.0</td>\n",
       "      <td>0.0</td>\n",
       "      <td>0.0</td>\n",
       "      <td>0.0</td>\n",
       "      <td>0.0</td>\n",
       "      <td>0.0</td>\n",
       "      <td>0.0</td>\n",
       "      <td>...</td>\n",
       "      <td>0.0</td>\n",
       "      <td>0.0</td>\n",
       "      <td>0.0</td>\n",
       "      <td>0.0</td>\n",
       "      <td>0.0</td>\n",
       "      <td>0.0</td>\n",
       "      <td>0.0</td>\n",
       "      <td>0.0</td>\n",
       "      <td>0.0</td>\n",
       "      <td>1.0</td>\n",
       "    </tr>\n",
       "    <tr>\n",
       "      <th>...</th>\n",
       "      <td>...</td>\n",
       "      <td>...</td>\n",
       "      <td>...</td>\n",
       "      <td>...</td>\n",
       "      <td>...</td>\n",
       "      <td>...</td>\n",
       "      <td>...</td>\n",
       "      <td>...</td>\n",
       "      <td>...</td>\n",
       "      <td>...</td>\n",
       "      <td>...</td>\n",
       "      <td>...</td>\n",
       "      <td>...</td>\n",
       "      <td>...</td>\n",
       "      <td>...</td>\n",
       "      <td>...</td>\n",
       "      <td>...</td>\n",
       "      <td>...</td>\n",
       "      <td>...</td>\n",
       "      <td>...</td>\n",
       "      <td>...</td>\n",
       "    </tr>\n",
       "    <tr>\n",
       "      <th>4505</th>\n",
       "      <td>0.0</td>\n",
       "      <td>0.0</td>\n",
       "      <td>0.0</td>\n",
       "      <td>0.0</td>\n",
       "      <td>0.0</td>\n",
       "      <td>0.0</td>\n",
       "      <td>0.0</td>\n",
       "      <td>0.0</td>\n",
       "      <td>0.0</td>\n",
       "      <td>0.0</td>\n",
       "      <td>...</td>\n",
       "      <td>0.0</td>\n",
       "      <td>0.0</td>\n",
       "      <td>0.0</td>\n",
       "      <td>0.0</td>\n",
       "      <td>0.0</td>\n",
       "      <td>0.0</td>\n",
       "      <td>0.0</td>\n",
       "      <td>0.0</td>\n",
       "      <td>0.0</td>\n",
       "      <td>0.0</td>\n",
       "    </tr>\n",
       "    <tr>\n",
       "      <th>4506</th>\n",
       "      <td>0.0</td>\n",
       "      <td>0.0</td>\n",
       "      <td>0.0</td>\n",
       "      <td>0.0</td>\n",
       "      <td>0.0</td>\n",
       "      <td>0.0</td>\n",
       "      <td>0.0</td>\n",
       "      <td>0.0</td>\n",
       "      <td>0.0</td>\n",
       "      <td>0.0</td>\n",
       "      <td>...</td>\n",
       "      <td>0.0</td>\n",
       "      <td>0.0</td>\n",
       "      <td>0.0</td>\n",
       "      <td>0.0</td>\n",
       "      <td>0.0</td>\n",
       "      <td>0.0</td>\n",
       "      <td>0.0</td>\n",
       "      <td>0.0</td>\n",
       "      <td>0.0</td>\n",
       "      <td>0.0</td>\n",
       "    </tr>\n",
       "    <tr>\n",
       "      <th>4507</th>\n",
       "      <td>0.0</td>\n",
       "      <td>0.0</td>\n",
       "      <td>0.0</td>\n",
       "      <td>0.0</td>\n",
       "      <td>1.0</td>\n",
       "      <td>0.0</td>\n",
       "      <td>0.0</td>\n",
       "      <td>0.0</td>\n",
       "      <td>0.0</td>\n",
       "      <td>0.0</td>\n",
       "      <td>...</td>\n",
       "      <td>0.0</td>\n",
       "      <td>0.0</td>\n",
       "      <td>0.0</td>\n",
       "      <td>0.0</td>\n",
       "      <td>0.0</td>\n",
       "      <td>0.0</td>\n",
       "      <td>0.0</td>\n",
       "      <td>0.0</td>\n",
       "      <td>0.0</td>\n",
       "      <td>0.0</td>\n",
       "    </tr>\n",
       "    <tr>\n",
       "      <th>4508</th>\n",
       "      <td>0.0</td>\n",
       "      <td>0.0</td>\n",
       "      <td>0.0</td>\n",
       "      <td>0.0</td>\n",
       "      <td>0.0</td>\n",
       "      <td>0.0</td>\n",
       "      <td>0.0</td>\n",
       "      <td>0.0</td>\n",
       "      <td>0.0</td>\n",
       "      <td>0.0</td>\n",
       "      <td>...</td>\n",
       "      <td>0.0</td>\n",
       "      <td>0.0</td>\n",
       "      <td>0.0</td>\n",
       "      <td>0.0</td>\n",
       "      <td>0.0</td>\n",
       "      <td>0.0</td>\n",
       "      <td>0.0</td>\n",
       "      <td>0.0</td>\n",
       "      <td>0.0</td>\n",
       "      <td>0.0</td>\n",
       "    </tr>\n",
       "    <tr>\n",
       "      <th>4509</th>\n",
       "      <td>0.0</td>\n",
       "      <td>0.0</td>\n",
       "      <td>0.0</td>\n",
       "      <td>0.0</td>\n",
       "      <td>0.0</td>\n",
       "      <td>0.0</td>\n",
       "      <td>0.0</td>\n",
       "      <td>0.0</td>\n",
       "      <td>0.0</td>\n",
       "      <td>0.0</td>\n",
       "      <td>...</td>\n",
       "      <td>0.0</td>\n",
       "      <td>0.0</td>\n",
       "      <td>0.0</td>\n",
       "      <td>0.0</td>\n",
       "      <td>0.0</td>\n",
       "      <td>0.0</td>\n",
       "      <td>0.0</td>\n",
       "      <td>0.0</td>\n",
       "      <td>0.0</td>\n",
       "      <td>0.0</td>\n",
       "    </tr>\n",
       "  </tbody>\n",
       "</table>\n",
       "<p>4510 rows × 187 columns</p>\n",
       "</div>"
      ],
      "text/plain": [
       "       acidity   back_pain   bladder_discomfort   breathlessness  \\\n",
       "0          0.0         0.0                  0.0              0.0   \n",
       "1          0.0         0.0                  0.0              0.0   \n",
       "2          0.0         0.0                  0.0              0.0   \n",
       "3          0.0         0.0                  0.0              0.0   \n",
       "4          0.0         0.0                  0.0              0.0   \n",
       "...        ...         ...                  ...              ...   \n",
       "4505       0.0         0.0                  0.0              0.0   \n",
       "4506       0.0         0.0                  0.0              0.0   \n",
       "4507       0.0         0.0                  0.0              0.0   \n",
       "4508       0.0         0.0                  0.0              0.0   \n",
       "4509       0.0         0.0                  0.0              0.0   \n",
       "\n",
       "       burning_micturition   chest_pain   chills   constipation  \\\n",
       "0                      0.0          0.0      0.0            0.0   \n",
       "1                      0.0          0.0      0.0            0.0   \n",
       "2                      0.0          0.0      0.0            0.0   \n",
       "3                      0.0          0.0      0.0            0.0   \n",
       "4                      0.0          0.0      0.0            0.0   \n",
       "...                    ...          ...      ...            ...   \n",
       "4505                   0.0          0.0      0.0            0.0   \n",
       "4506                   0.0          0.0      0.0            0.0   \n",
       "4507                   1.0          0.0      0.0            0.0   \n",
       "4508                   0.0          0.0      0.0            0.0   \n",
       "4509                   0.0          0.0      0.0            0.0   \n",
       "\n",
       "       continuous_sneezing   cough  ...   swelling_joints  \\\n",
       "0                      0.0     0.0  ...               0.0   \n",
       "1                      0.0     0.0  ...               0.0   \n",
       "2                      0.0     0.0  ...               0.0   \n",
       "3                      0.0     0.0  ...               0.0   \n",
       "4                      0.0     0.0  ...               0.0   \n",
       "...                    ...     ...  ...               ...   \n",
       "4505                   0.0     0.0  ...               0.0   \n",
       "4506                   0.0     0.0  ...               0.0   \n",
       "4507                   0.0     0.0  ...               0.0   \n",
       "4508                   0.0     0.0  ...               0.0   \n",
       "4509                   0.0     0.0  ...               0.0   \n",
       "\n",
       "       swelling_of_stomach   swollen_legs   vomiting   watering_from_eyes  \\\n",
       "0                      0.0            0.0        0.0                  0.0   \n",
       "1                      0.0            0.0        0.0                  0.0   \n",
       "2                      0.0            0.0        0.0                  0.0   \n",
       "3                      0.0            0.0        0.0                  0.0   \n",
       "4                      0.0            0.0        0.0                  0.0   \n",
       "...                    ...            ...        ...                  ...   \n",
       "4505                   0.0            0.0        0.0                  0.0   \n",
       "4506                   0.0            0.0        0.0                  0.0   \n",
       "4507                   0.0            0.0        0.0                  0.0   \n",
       "4508                   0.0            0.0        0.0                  0.0   \n",
       "4509                   0.0            0.0        0.0                  0.0   \n",
       "\n",
       "       weight_loss   yellow_crust_ooze   yellowing_of_eyes   yellowish_skin  \\\n",
       "0              0.0                 0.0                 0.0              0.0   \n",
       "1              0.0                 0.0                 0.0              0.0   \n",
       "2              0.0                 0.0                 0.0              0.0   \n",
       "3              0.0                 0.0                 0.0              0.0   \n",
       "4              0.0                 0.0                 0.0              0.0   \n",
       "...            ...                 ...                 ...              ...   \n",
       "4505           0.0                 0.0                 0.0              0.0   \n",
       "4506           0.0                 0.0                 0.0              0.0   \n",
       "4507           0.0                 0.0                 0.0              0.0   \n",
       "4508           0.0                 0.0                 0.0              0.0   \n",
       "4509           0.0                 0.0                 0.0              0.0   \n",
       "\n",
       "      nan  \n",
       "0     0.0  \n",
       "1     1.0  \n",
       "2     1.0  \n",
       "3     1.0  \n",
       "4     1.0  \n",
       "...   ...  \n",
       "4505  0.0  \n",
       "4506  0.0  \n",
       "4507  0.0  \n",
       "4508  0.0  \n",
       "4509  0.0  \n",
       "\n",
       "[4510 rows x 187 columns]"
      ]
     },
     "execution_count": 159,
     "metadata": {},
     "output_type": "execute_result"
    }
   ],
   "source": [
    "encoded_df"
   ]
  },
  {
   "cell_type": "code",
   "execution_count": 160,
   "id": "f9694e73",
   "metadata": {},
   "outputs": [],
   "source": [
    "encoded_df.drop(['nan'],axis='columns',inplace=True)"
   ]
  },
  {
   "cell_type": "code",
   "execution_count": 161,
   "id": "371a522d",
   "metadata": {},
   "outputs": [],
   "source": [
    "#encoded_df.to_csv('output.csv', index=False)"
   ]
  },
  {
   "cell_type": "code",
   "execution_count": 162,
   "id": "5cab2836",
   "metadata": {},
   "outputs": [
    {
     "data": {
      "text/plain": [
       "array([15, 15, 15, ..., 38, 35, 27])"
      ]
     },
     "execution_count": 162,
     "metadata": {},
     "output_type": "execute_result"
    }
   ],
   "source": [
    "# Extract the target variable\n",
    "y = df['Disease']\n",
    "\n",
    "# Label encode the diseases\n",
    "le = LabelEncoder()\n",
    "disease = le.fit_transform(df['Disease'])\n",
    "\n",
    "# Display encoded diseases\n",
    "disease\n"
   ]
  },
  {
   "cell_type": "markdown",
   "id": "e7d4b02a",
   "metadata": {},
   "source": [
    "# TRAIN-TEST SPLIT"
   ]
  },
  {
   "cell_type": "code",
   "execution_count": 163,
   "id": "001cf2d3",
   "metadata": {},
   "outputs": [],
   "source": [
    "# Splitting the data into training and test sets\n",
    "from sklearn.model_selection import train_test_split\n",
    "X_train, X_test, y_train, y_test = train_test_split(encoded_df, disease, test_size=0.3, random_state=1)\n"
   ]
  },
  {
   "cell_type": "code",
   "execution_count": 164,
   "id": "e073ac0e",
   "metadata": {},
   "outputs": [],
   "source": [
    "#from sklearn.ensemble import GradientBoostingClassifier"
   ]
  },
  {
   "cell_type": "code",
   "execution_count": 165,
   "id": "5e2f956c",
   "metadata": {},
   "outputs": [],
   "source": [
    "\n",
    "\n",
    "# Ensure shapes match before splitting\n",
    "#print(f\"Encoded features shape: {encoded_df.shape}\")\n",
    "\n",
    "\n",
    "# Train-test split (ensure samples count match)\n",
    "#X_train, X_test, y_train, y_test = train_test_split(encoded_df, disease, test_size=0.3, random_state=1)\n",
    "\n",
    "# Initialize and train the Gradient Boosting model\n",
    "#model = GradientBoostingClassifier(n_estimators=150, learning_rate=0.1, max_depth=3, random_state=42)\n",
    "#model.fit(X_train, y_train)\n",
    "\n",
    "# Make predictions\n",
    "#y_pred = model.predict(X_train)\n",
    "#print(y_pred)\n",
    "#y_test_pred=model.predict(X_test)\n"
   ]
  },
  {
   "cell_type": "code",
   "execution_count": 166,
   "id": "5c63b89e",
   "metadata": {},
   "outputs": [],
   "source": [
    "#model.score(X_test,y_test)"
   ]
  },
  {
   "cell_type": "code",
   "execution_count": 167,
   "id": "27803dfa",
   "metadata": {},
   "outputs": [],
   "source": [
    "#print(confusion_matrix(y_test, y_test_pred))"
   ]
  },
  {
   "cell_type": "code",
   "execution_count": 168,
   "id": "8534bf08",
   "metadata": {},
   "outputs": [],
   "source": [
    "#print(classification_report(y_test,y_test_pred))"
   ]
  },
  {
   "cell_type": "code",
   "execution_count": 169,
   "id": "57779a98",
   "metadata": {},
   "outputs": [
    {
     "data": {
      "text/plain": [
       "(0.9952486537852392, 0.9963045084996305)"
      ]
     },
     "execution_count": 169,
     "metadata": {},
     "output_type": "execute_result"
    }
   ],
   "source": [
    "# RandomForest Classifier model\n",
    "from sklearn.ensemble import RandomForestClassifier\n",
    "model = RandomForestClassifier()\n",
    "model.fit(X_train, y_train)\n",
    "\n",
    "# Predicting on test data\n",
    "y_pred = model.predict(X_train)\n",
    "y_test_pred = model.predict(X_test)\n",
    "\n",
    "# Accuracy scores\n",
    "from sklearn.metrics import accuracy_score, confusion_matrix, classification_report\n",
    "train_accuracy = accuracy_score(y_train, y_pred)\n",
    "test_accuracy = accuracy_score(y_test, y_test_pred)\n",
    "\n",
    "# Display train and test accuracy\n",
    "train_accuracy, test_accuracy\n"
   ]
  },
  {
   "cell_type": "markdown",
   "id": "38ceced4",
   "metadata": {},
   "source": [
    " # CONFUSION MATRIX AND CLASSIFICATION REPORT"
   ]
  },
  {
   "cell_type": "code",
   "execution_count": 170,
   "id": "f415c265",
   "metadata": {},
   "outputs": [
    {
     "name": "stdout",
     "output_type": "stream",
     "text": [
      "[[35  0  0 ...  0  0  0]\n",
      " [ 0 27  0 ...  0  0  0]\n",
      " [ 0  0 33 ...  0  0  0]\n",
      " ...\n",
      " [ 0  0  0 ... 29  0  0]\n",
      " [ 0  0  0 ...  0 37  0]\n",
      " [ 0  0  0 ...  0  0 34]]\n"
     ]
    }
   ],
   "source": [
    "# Confusion matrix and classification report\n",
    "print(confusion_matrix(y_test, y_test_pred))\n"
   ]
  },
  {
   "cell_type": "code",
   "execution_count": 171,
   "id": "7f3747f7",
   "metadata": {},
   "outputs": [
    {
     "name": "stdout",
     "output_type": "stream",
     "text": [
      "              precision    recall  f1-score   support\n",
      "\n",
      "           0       1.00      1.00      1.00        35\n",
      "           1       1.00      1.00      1.00        27\n",
      "           2       1.00      1.00      1.00        33\n",
      "           3       1.00      1.00      1.00        28\n",
      "           4       1.00      1.00      1.00        33\n",
      "           5       1.00      1.00      1.00        37\n",
      "           6       0.97      1.00      0.98        30\n",
      "           7       1.00      1.00      1.00        29\n",
      "           8       1.00      1.00      1.00        39\n",
      "           9       1.00      1.00      1.00        32\n",
      "          10       1.00      0.97      0.99        39\n",
      "          11       1.00      1.00      1.00        35\n",
      "          12       1.00      1.00      1.00        32\n",
      "          13       1.00      1.00      1.00        33\n",
      "          14       1.00      1.00      1.00        31\n",
      "          15       1.00      1.00      1.00        39\n",
      "          16       1.00      1.00      1.00        28\n",
      "          17       1.00      1.00      1.00        37\n",
      "          18       1.00      1.00      1.00        37\n",
      "          19       1.00      1.00      1.00        35\n",
      "          20       1.00      1.00      1.00        35\n",
      "          21       0.97      0.93      0.95        30\n",
      "          22       1.00      0.96      0.98        26\n",
      "          23       1.00      1.00      1.00        35\n",
      "          24       1.00      1.00      1.00        30\n",
      "          25       1.00      1.00      1.00        29\n",
      "          26       1.00      1.00      1.00        31\n",
      "          27       1.00      1.00      1.00        32\n",
      "          28       1.00      1.00      1.00        44\n",
      "          29       1.00      1.00      1.00        34\n",
      "          30       1.00      1.00      1.00        31\n",
      "          31       1.00      1.00      1.00        35\n",
      "          32       1.00      1.00      1.00        30\n",
      "          33       1.00      1.00      1.00        24\n",
      "          34       0.97      0.97      0.97        33\n",
      "          35       1.00      1.00      1.00        36\n",
      "          36       1.00      1.00      1.00        32\n",
      "          37       1.00      1.00      1.00        37\n",
      "          38       1.00      1.00      1.00        29\n",
      "          39       1.00      1.00      1.00        37\n",
      "          40       0.94      1.00      0.97        34\n",
      "\n",
      "    accuracy                           1.00      1353\n",
      "   macro avg       1.00      1.00      1.00      1353\n",
      "weighted avg       1.00      1.00      1.00      1353\n",
      "\n"
     ]
    }
   ],
   "source": [
    "print(classification_report(y_test, y_test_pred))\n"
   ]
  },
  {
   "cell_type": "code",
   "execution_count": 172,
   "id": "44605103",
   "metadata": {},
   "outputs": [],
   "source": [
    "#import matplotlib as m\n",
    "#import seaborn as sns"
   ]
  },
  {
   "cell_type": "code",
   "execution_count": 173,
   "id": "7ef538e3",
   "metadata": {
    "scrolled": true
   },
   "outputs": [],
   "source": [
    "#sns.heatmap(confusion_matrix(y_test, y_test_pred),annot=True)"
   ]
  },
  {
   "cell_type": "code",
   "execution_count": 174,
   "id": "2d27b49a",
   "metadata": {},
   "outputs": [
    {
     "data": {
      "text/plain": [
       "array([35,  0,  0,  0,  0,  0,  0,  0,  0,  0,  0,  0,  0,  0,  0,  0,  0,\n",
       "        0,  0,  0,  0,  0,  0,  0,  0,  0,  0,  0,  0,  0,  0,  0,  0,  0,\n",
       "        0,  0,  0,  0,  0,  0,  0], dtype=int64)"
      ]
     },
     "execution_count": 174,
     "metadata": {},
     "output_type": "execute_result"
    }
   ],
   "source": [
    "confusion_matrix(y_test,y_test_pred)[0]"
   ]
  },
  {
   "cell_type": "code",
   "execution_count": 175,
   "id": "3fb660e3",
   "metadata": {},
   "outputs": [
    {
     "name": "stdout",
     "output_type": "stream",
     "text": [
      "Fungal infection\n",
      "Fungal infection\n",
      "Fungal infection\n",
      "Fungal infection\n",
      "Fungal infection\n",
      "Fungal infection\n",
      "Fungal infection\n",
      "Fungal infection\n",
      "Fungal infection\n",
      "Allergy\n",
      "Allergy\n",
      "Allergy\n",
      "Allergy\n",
      "Allergy\n",
      "Allergy\n",
      "Allergy\n",
      "Allergy\n",
      "Allergy\n",
      "Allergy\n",
      "GERD\n",
      "GERD\n",
      "GERD\n",
      "GERD\n",
      "GERD\n",
      "GERD\n",
      "GERD\n",
      "GERD\n",
      "GERD\n",
      "GERD\n",
      "Chronic cholestasis\n",
      "Chronic cholestasis\n",
      "Chronic cholestasis\n",
      "Chronic cholestasis\n",
      "Chronic cholestasis\n",
      "Chronic cholestasis\n",
      "Chronic cholestasis\n",
      "Chronic cholestasis\n",
      "Chronic cholestasis\n",
      "Chronic cholestasis\n",
      "Drug Reaction\n",
      "Drug Reaction\n",
      "Drug Reaction\n",
      "Drug Reaction\n",
      "Drug Reaction\n",
      "Drug Reaction\n",
      "Drug Reaction\n",
      "Drug Reaction\n",
      "Drug Reaction\n",
      "Drug Reaction\n",
      "Paralysis (brain hemorrhage)\n",
      "Paralysis (brain hemorrhage)\n",
      "Paralysis (brain hemorrhage)\n",
      "Paralysis (brain hemorrhage)\n",
      "Paralysis (brain hemorrhage)\n",
      "Paralysis (brain hemorrhage)\n",
      "Paralysis (brain hemorrhage)\n",
      "Paralysis (brain hemorrhage)\n",
      "Paralysis (brain hemorrhage)\n",
      "Paralysis (brain hemorrhage)\n",
      "AIDS\n",
      "AIDS\n",
      "AIDS\n",
      "AIDS\n",
      "AIDS\n",
      "AIDS\n",
      "AIDS\n",
      "AIDS\n",
      "AIDS\n",
      "AIDS\n",
      "Diabetes\n",
      "Diabetes\n",
      "Diabetes\n",
      "Diabetes\n",
      "Diabetes\n",
      "Diabetes\n",
      "Diabetes\n",
      "Diabetes\n",
      "Diabetes\n",
      "Diabetes\n",
      "Gastroenteritis\n",
      "Gastroenteritis\n",
      "Gastroenteritis\n",
      "Gastroenteritis\n",
      "Gastroenteritis\n",
      "Gastroenteritis\n",
      "Gastroenteritis\n",
      "Gastroenteritis\n",
      "Gastroenteritis\n",
      "Gastroenteritis\n",
      "Bronchial Asthma\n",
      "Bronchial Asthma\n",
      "Bronchial Asthma\n",
      "Bronchial Asthma\n",
      "Bronchial Asthma\n",
      "Bronchial Asthma\n",
      "Bronchial Asthma\n",
      "Bronchial Asthma\n",
      "Bronchial Asthma\n",
      "Bronchial Asthma\n",
      "Hypertension\n",
      "Hypertension\n",
      "Hypertension\n",
      "Hypertension\n",
      "Hypertension\n",
      "Hypertension\n",
      "Hypertension\n",
      "Hypertension\n",
      "Hypertension\n",
      "Hypertension\n",
      "Malaria\n",
      "Malaria\n",
      "Malaria\n",
      "Malaria\n",
      "Malaria\n",
      "Malaria\n",
      "Malaria\n",
      "Malaria\n",
      "Malaria\n",
      "Malaria\n",
      "Cervical spondylosis\n",
      "Cervical spondylosis\n",
      "Cervical spondylosis\n",
      "Cervical spondylosis\n",
      "Cervical spondylosis\n",
      "Cervical spondylosis\n",
      "Cervical spondylosis\n",
      "Cervical spondylosis\n",
      "Cervical spondylosis\n",
      "Cervical spondylosis\n",
      "Osteoarthristis\n",
      "Osteoarthristis\n",
      "Osteoarthristis\n",
      "Osteoarthristis\n",
      "Osteoarthristis\n",
      "Osteoarthristis\n",
      "Osteoarthristis\n",
      "Osteoarthristis\n",
      "Osteoarthristis\n",
      "Osteoarthristis\n",
      "Impetigo\n",
      "Impetigo\n",
      "Impetigo\n",
      "Impetigo\n",
      "Impetigo\n",
      "Impetigo\n",
      "Impetigo\n",
      "Impetigo\n",
      "Impetigo\n",
      "Impetigo\n",
      "Jaundice\n",
      "Jaundice\n",
      "Jaundice\n",
      "Jaundice\n",
      "Jaundice\n",
      "Jaundice\n",
      "Jaundice\n",
      "Jaundice\n",
      "Jaundice\n",
      "Jaundice\n",
      "Chicken pox\n",
      "Chicken pox\n",
      "Chicken pox\n",
      "Chicken pox\n",
      "Chicken pox\n",
      "Chicken pox\n",
      "Chicken pox\n",
      "Chicken pox\n",
      "Chicken pox\n",
      "Chicken pox\n",
      "Dengue\n",
      "Dengue\n",
      "Dengue\n",
      "Dengue\n",
      "Dengue\n",
      "Dengue\n",
      "Dengue\n",
      "Dengue\n",
      "Dengue\n",
      "Dengue\n",
      "Tuberculosis\n",
      "Tuberculosis\n",
      "Tuberculosis\n",
      "Tuberculosis\n",
      "Tuberculosis\n",
      "Tuberculosis\n",
      "Tuberculosis\n",
      "Tuberculosis\n",
      "Tuberculosis\n",
      "Tuberculosis\n",
      "Varicose veins\n",
      "Varicose veins\n",
      "Varicose veins\n",
      "Varicose veins\n",
      "Varicose veins\n",
      "Varicose veins\n",
      "Varicose veins\n",
      "Varicose veins\n",
      "Varicose veins\n",
      "Varicose veins\n"
     ]
    }
   ],
   "source": [
    "# Function to get the key for a given value\n",
    "def get_disease_by_value(disease_map, value):\n",
    "    for key, val in disease_map.items():\n",
    "        if val == value:\n",
    "            return key\n",
    "    return \"Disease not found\"\n",
    "\n",
    "# Example usage with predictions\n",
    "diseasemap = {\n",
    "    '(vertigo) Paroymsal  Positional Vertigo': 0, 'AIDS': 1, 'Acne': 2, \n",
    "    'Alcoholic hepatitis': 3, 'Allergy': 4, 'Arthritis': 5, 'Bronchial Asthma': 6,\n",
    "    'Cervical spondylosis': 7, 'Chicken pox': 8, 'Chronic cholestasis': 9, \n",
    "    'Common Cold': 10, 'Dengue': 11, 'Diabetes': 12, 'Dimorphic hemmorhoids(piles)': 13, \n",
    "    'Drug Reaction': 14, 'Fungal infection': 15, 'GERD': 16, 'Gastroenteritis': 17, \n",
    "    'Heart attack': 18, 'Hepatitis B': 19, 'Hepatitis C': 20, 'Hepatitis D': 21, \n",
    "    'Hepatitis E': 22, 'Hypertension': 23, 'Hyperthyroidism': 24, 'Hypoglycemia': 25, \n",
    "    'Hypothyroidism': 26, 'Impetigo': 28, 'Jaundice': 29, 'Malaria': 30, 'Migraine': 31, \n",
    "    'Osteoarthristis': 32, 'Paralysis (brain hemorrhage)': 33, 'Peptic ulcer disease': 34, \n",
    "    'Pneumonia': 35, 'Psoriasis': 36, 'Tuberculosis': 37, 'Typhoid': 38, \n",
    "    'Urinary tract infection': 39, 'Varicose veins': 40, 'hepatitis A': 41\n",
    "}\n",
    "\n",
    "# Assuming model.predict() returns an array of predictions\n",
    "predicted_values = model.predict(encoded_df.iloc[1:200])\n",
    "\n",
    "# Iterate through predicted values and get corresponding disease names\n",
    "predicted_diseases = [get_disease_by_value(diseasemap, value) for value in predicted_values]\n",
    "\n",
    "# Output the predicted diseases\n",
    "for disease in predicted_diseases:\n",
    "    print(disease)"
   ]
  },
  {
   "cell_type": "code",
   "execution_count": 176,
   "id": "0bfbb73b",
   "metadata": {},
   "outputs": [],
   "source": [
    "import pickle"
   ]
  },
  {
   "cell_type": "code",
   "execution_count": 177,
   "id": "59d068a0",
   "metadata": {},
   "outputs": [],
   "source": [
    "with open('model.pkl','wb') as file:\n",
    "    pickle.dump(model,file)"
   ]
  },
  {
   "cell_type": "markdown",
   "id": "f67b65b2",
   "metadata": {},
   "source": []
  },
  {
   "cell_type": "code",
   "execution_count": 178,
   "id": "a50f1e8f",
   "metadata": {},
   "outputs": [],
   "source": [
    "with open('model.pkl', 'rb') as file:\n",
    "    loaded_model = pickle.load(file)"
   ]
  },
  {
   "cell_type": "markdown",
   "id": "3cf22b39",
   "metadata": {},
   "source": [
    "# TESTING THE MODEL"
   ]
  },
  {
   "cell_type": "code",
   "execution_count": 179,
   "id": "7a5fc435",
   "metadata": {
    "scrolled": true
   },
   "outputs": [
    {
     "name": "stdout",
     "output_type": "stream",
     "text": [
      "Disease: Typhoid, Medication: ['Vaccination', 'Antiviral drugs', 'IV fluids', 'Blood transfusions', 'Liver transplant']\n",
      "Precaution:eat high calorie vegitables,antiboitic therapy,consult doctor,medication\n",
      "Diet:['Typhoid Diet', 'High-Calorie Diet', 'Soft and bland foods', 'Hydration', 'Protein-rich foods']\n",
      "workout:['Consume easily digestible foods', 'Stay hydrated', 'Include nutrient-rich foods', 'Consume foods rich in vitamin C and antioxidants', 'Include protein-rich foods', 'Avoid fatty and greasy foods', 'Consult a healthcare professional', 'Gradually resume normal diet', 'Follow medical recommendations', 'Avoid alcohol and caffeine']\n",
      "\n"
     ]
    },
    {
     "name": "stderr",
     "output_type": "stream",
     "text": [
      "c:\\Users\\lokes\\AppData\\Local\\Programs\\Python\\Python311\\Lib\\site-packages\\sklearn\\base.py:493: UserWarning: X does not have valid feature names, but RandomForestClassifier was fitted with feature names\n",
      "  warnings.warn(\n"
     ]
    }
   ],
   "source": [
    "# Function to get the key (disease name) for a given value (predicted value)\n",
    "def get_disease_by_value(disease_map, value):\n",
    "    for key, val in disease_map.items():\n",
    "        if val == value:\n",
    "            return key\n",
    "    return \"Disease not found\"\n",
    "\n",
    "# Example disease map (as provided)\n",
    "\n",
    "diseasemap = {\n",
    "    '(vertigo) Paroymsal  Positional Vertigo': 0, 'AIDS': 1, 'Acne': 2, \n",
    "    'Alcoholic hepatitis': 3, 'Allergy': 4, 'Arthritis': 5, 'Bronchial Asthma': 6,\n",
    "    'Cervical spondylosis': 7, 'Chicken pox': 8, 'Chronic cholestasis': 9, \n",
    "    'Common Cold': 10, 'Dengue': 11, 'Diabetes': 12, 'Dimorphic hemmorhoids(piles)': 13, \n",
    "    'Drug Reaction': 14, 'Fungal infection': 15, 'GERD': 16, 'Gastroenteritis': 17, \n",
    "    'Heart attack': 18, 'Hepatitis B': 19, 'Hepatitis C': 20, 'Hepatitis D': 21, \n",
    "    'Hepatitis E': 22, 'Hypertension': 23, 'Hyperthyroidism': 24, 'Hypoglycemia': 25, \n",
    "    'Hypothyroidism': 26, 'Impetigo': 28, 'Jaundice': 29, 'Malaria': 30, 'Migraine': 31, \n",
    "    'Osteoarthristis': 32, 'Paralysis (brain hemorrhage)': 33, 'Peptic ulcer disease': 34, \n",
    "    'Pneumonia': 35, 'Psoriasis': 36, 'Tuberculosis': 37, 'Typhoid': 38, \n",
    "    'Urinary tract infection': 39, 'Varicose veins': 40, 'hepatitis A': 41\n",
    "}\n",
    "\n",
    "# Assuming model.predict() returns an array of predicted values\n",
    "\n",
    "predicted_values = loaded_model.predict([[0 ,0, 0, 0, 1, 1, 1, 0, 0, 0, 0, 0, 0, 0, 0, 0, 0, 0, 0, 0, \n",
    " 0, 0, 0, 0, 0, 0, 0, 0, 0, 0, 0, 0, 0, 0, 0,0, 0, 0, 0, 0,\n",
    " 0, 0, 0, 0, 0, 0, 0, 0, 0, 0, 0, 0, 0, 0, 0, 1, 1, 1, 0, 0,\n",
    " 0, 0, 0, 0, 0, 0, 0, 0, 0, 0, 0, 0, 0, 0, 0, 0, 0, 0, 0, 0,\n",
    " 0, 0, 0, 0, 0, 0, 0, 0, 0, 0, 0, 0, 0, 0, 0, 0, 0, 0, 0, 0,\n",
    " 0, 0, 0, 0, 0, 0, 0, 0, 0, 0, 0, 0, 0, 0, 0, 0, 0, 0, 0, 0,\n",
    " 0, 0, 0, 1, 0, 0, 1, 1, 0, 0, 0, 0, 0, 0, 0, 0, 0, 0, 0, 0,\n",
    " 0, 0, 1, 0, 0, 0, 0, 0, 0, 0, 0, 0, 0, 0, 0, 0, 0, 0, 0, 0,\n",
    " 0, 0, 0, 0, 0, 0, 0, 0, 0, 0, 1, 1, 1, 0, 0,0, 0, 0, 0, 0,0,0,0,0,0,0]])\n",
    "\n",
    "# Iterate through predicted values and get corresponding disease names\n",
    "predicted_diseases = [get_disease_by_value(diseasemap, value) for value in predicted_values]\n",
    "#print(predicted_diseases)\n",
    "\n",
    "# Checking and printing corresponding medications from the 'medicine' DataFrame\n",
    "for disease in predicted_diseases:\n",
    "    if disease in medicine['Disease'].values:\n",
    "        # Get the corresponding medication\n",
    "        medication = medicine.loc[medicine['Disease'] == disease, 'Medication'].values[0]\n",
    "        print(f\"Disease: {disease}, Medication: {medication}\")\n",
    "        \n",
    "    if disease in precaution['Disease'].values:\n",
    "        precautions= precaution.loc[precaution['Disease']== disease, ['Precaution_1', 'Precaution_2', 'Precaution_3', 'Precaution_4']].values[0]\n",
    "        print(f\"Precaution:{precautions[0]},{precautions[1]},{precautions[2]},{precautions[3]}\")\n",
    "        \n",
    "    if disease in diet['Disease'].values:\n",
    "        diets=diet.loc[diet['Disease']==disease,'Diet'].values[0]\n",
    "        print(f\"Diet:{diets}\")\n",
    "        \n",
    "    if disease in grouped_workout['disease'].values:\n",
    "        wo = grouped_workout.loc[grouped_workout['disease'] == disease, 'workout'].values[0]\n",
    "        print(f\"workout:{wo}\\n\")\n",
    "    else:\n",
    "        print(f\"Disease: {disease}, Medication not found\")\n"
   ]
  },
  {
   "cell_type": "code",
   "execution_count": 180,
   "id": "82ab92ba",
   "metadata": {},
   "outputs": [],
   "source": [
    "#(encoded_df==0).all(axis = 1).any()"
   ]
  },
  {
   "cell_type": "code",
   "execution_count": 181,
   "id": "70e26b71",
   "metadata": {},
   "outputs": [],
   "source": [
    "#predicted_values"
   ]
  },
  {
   "cell_type": "code",
   "execution_count": 182,
   "id": "be350a3f",
   "metadata": {},
   "outputs": [
    {
     "name": "stdout",
     "output_type": "stream",
     "text": [
      "Requirement already satisfied: streamlit in c:\\users\\lokes\\appdata\\local\\programs\\python\\python311\\lib\\site-packages (1.39.0)\n",
      "Requirement already satisfied: altair<6,>=4.0 in c:\\users\\lokes\\appdata\\local\\programs\\python\\python311\\lib\\site-packages (from streamlit) (5.4.1)\n",
      "Requirement already satisfied: blinker<2,>=1.0.0 in c:\\users\\lokes\\appdata\\local\\programs\\python\\python311\\lib\\site-packages (from streamlit) (1.8.2)\n",
      "Requirement already satisfied: cachetools<6,>=4.0 in c:\\users\\lokes\\appdata\\local\\programs\\python\\python311\\lib\\site-packages (from streamlit) (5.5.0)\n",
      "Requirement already satisfied: click<9,>=7.0 in c:\\users\\lokes\\appdata\\local\\programs\\python\\python311\\lib\\site-packages (from streamlit) (8.1.7)\n",
      "Requirement already satisfied: numpy<3,>=1.20 in c:\\users\\lokes\\appdata\\local\\programs\\python\\python311\\lib\\site-packages (from streamlit) (1.24.1)\n",
      "Requirement already satisfied: packaging<25,>=20 in c:\\users\\lokes\\appdata\\roaming\\python\\python311\\site-packages (from streamlit) (22.0)\n",
      "Requirement already satisfied: pandas<3,>=1.4.0 in c:\\users\\lokes\\appdata\\local\\programs\\python\\python311\\lib\\site-packages (from streamlit) (2.1.3)\n",
      "Requirement already satisfied: pillow<11,>=7.1.0 in c:\\users\\lokes\\appdata\\local\\programs\\python\\python311\\lib\\site-packages (from streamlit) (9.4.0)\n",
      "Requirement already satisfied: protobuf<6,>=3.20 in c:\\users\\lokes\\appdata\\local\\programs\\python\\python311\\lib\\site-packages (from streamlit) (5.28.3)\n",
      "Requirement already satisfied: pyarrow>=7.0 in c:\\users\\lokes\\appdata\\local\\programs\\python\\python311\\lib\\site-packages (from streamlit) (18.0.0)\n",
      "Requirement already satisfied: requests<3,>=2.27 in c:\\users\\lokes\\appdata\\local\\programs\\python\\python311\\lib\\site-packages (from streamlit) (2.28.2)\n",
      "Requirement already satisfied: rich<14,>=10.14.0 in c:\\users\\lokes\\appdata\\local\\programs\\python\\python311\\lib\\site-packages (from streamlit) (13.9.4)\n",
      "Requirement already satisfied: tenacity<10,>=8.1.0 in c:\\users\\lokes\\appdata\\local\\programs\\python\\python311\\lib\\site-packages (from streamlit) (8.2.3)\n",
      "Requirement already satisfied: toml<2,>=0.10.1 in c:\\users\\lokes\\appdata\\local\\programs\\python\\python311\\lib\\site-packages (from streamlit) (0.10.2)\n",
      "Requirement already satisfied: typing-extensions<5,>=4.3.0 in c:\\users\\lokes\\appdata\\local\\programs\\python\\python311\\lib\\site-packages (from streamlit) (4.12.2)\n",
      "Requirement already satisfied: gitpython!=3.1.19,<4,>=3.0.7 in c:\\users\\lokes\\appdata\\local\\programs\\python\\python311\\lib\\site-packages (from streamlit) (3.1.43)\n",
      "Requirement already satisfied: pydeck<1,>=0.8.0b4 in c:\\users\\lokes\\appdata\\local\\programs\\python\\python311\\lib\\site-packages (from streamlit) (0.9.1)\n",
      "Requirement already satisfied: tornado<7,>=6.0.3 in c:\\users\\lokes\\appdata\\roaming\\python\\python311\\site-packages (from streamlit) (6.2)\n",
      "Requirement already satisfied: watchdog<6,>=2.1.5 in c:\\users\\lokes\\appdata\\local\\programs\\python\\python311\\lib\\site-packages (from streamlit) (5.0.3)\n",
      "Requirement already satisfied: jinja2 in c:\\users\\lokes\\appdata\\local\\programs\\python\\python311\\lib\\site-packages (from altair<6,>=4.0->streamlit) (3.1.4)\n",
      "Requirement already satisfied: jsonschema>=3.0 in c:\\users\\lokes\\appdata\\local\\programs\\python\\python311\\lib\\site-packages (from altair<6,>=4.0->streamlit) (4.23.0)\n",
      "Requirement already satisfied: narwhals>=1.5.2 in c:\\users\\lokes\\appdata\\local\\programs\\python\\python311\\lib\\site-packages (from altair<6,>=4.0->streamlit) (1.13.2)\n",
      "Requirement already satisfied: colorama in c:\\users\\lokes\\appdata\\roaming\\python\\python311\\site-packages (from click<9,>=7.0->streamlit) (0.4.6)\n",
      "Requirement already satisfied: gitdb<5,>=4.0.1 in c:\\users\\lokes\\appdata\\local\\programs\\python\\python311\\lib\\site-packages (from gitpython!=3.1.19,<4,>=3.0.7->streamlit) (4.0.11)\n",
      "Requirement already satisfied: python-dateutil>=2.8.2 in c:\\users\\lokes\\appdata\\roaming\\python\\python311\\site-packages (from pandas<3,>=1.4.0->streamlit) (2.8.2)\n",
      "Requirement already satisfied: pytz>=2020.1 in c:\\users\\lokes\\appdata\\local\\programs\\python\\python311\\lib\\site-packages (from pandas<3,>=1.4.0->streamlit) (2023.3.post1)\n",
      "Requirement already satisfied: tzdata>=2022.1 in c:\\users\\lokes\\appdata\\local\\programs\\python\\python311\\lib\\site-packages (from pandas<3,>=1.4.0->streamlit) (2023.3)\n",
      "Requirement already satisfied: charset-normalizer<4,>=2 in c:\\users\\lokes\\appdata\\local\\programs\\python\\python311\\lib\\site-packages (from requests<3,>=2.27->streamlit) (3.1.0)\n",
      "Requirement already satisfied: idna<4,>=2.5 in c:\\users\\lokes\\appdata\\local\\programs\\python\\python311\\lib\\site-packages (from requests<3,>=2.27->streamlit) (3.4)\n",
      "Requirement already satisfied: urllib3<1.27,>=1.21.1 in c:\\users\\lokes\\appdata\\local\\programs\\python\\python311\\lib\\site-packages (from requests<3,>=2.27->streamlit) (1.26.15)\n",
      "Requirement already satisfied: certifi>=2017.4.17 in c:\\users\\lokes\\appdata\\local\\programs\\python\\python311\\lib\\site-packages (from requests<3,>=2.27->streamlit) (2022.12.7)\n",
      "Requirement already satisfied: markdown-it-py>=2.2.0 in c:\\users\\lokes\\appdata\\local\\programs\\python\\python311\\lib\\site-packages (from rich<14,>=10.14.0->streamlit) (3.0.0)\n",
      "Requirement already satisfied: pygments<3.0.0,>=2.13.0 in c:\\users\\lokes\\appdata\\roaming\\python\\python311\\site-packages (from rich<14,>=10.14.0->streamlit) (2.14.0)\n",
      "Requirement already satisfied: smmap<6,>=3.0.1 in c:\\users\\lokes\\appdata\\local\\programs\\python\\python311\\lib\\site-packages (from gitdb<5,>=4.0.1->gitpython!=3.1.19,<4,>=3.0.7->streamlit) (5.0.1)\n",
      "Requirement already satisfied: MarkupSafe>=2.0 in c:\\users\\lokes\\appdata\\local\\programs\\python\\python311\\lib\\site-packages (from jinja2->altair<6,>=4.0->streamlit) (3.0.2)\n",
      "Requirement already satisfied: attrs>=22.2.0 in c:\\users\\lokes\\appdata\\local\\programs\\python\\python311\\lib\\site-packages (from jsonschema>=3.0->altair<6,>=4.0->streamlit) (24.2.0)\n",
      "Requirement already satisfied: jsonschema-specifications>=2023.03.6 in c:\\users\\lokes\\appdata\\local\\programs\\python\\python311\\lib\\site-packages (from jsonschema>=3.0->altair<6,>=4.0->streamlit) (2024.10.1)\n",
      "Requirement already satisfied: referencing>=0.28.4 in c:\\users\\lokes\\appdata\\local\\programs\\python\\python311\\lib\\site-packages (from jsonschema>=3.0->altair<6,>=4.0->streamlit) (0.35.1)\n",
      "Requirement already satisfied: rpds-py>=0.7.1 in c:\\users\\lokes\\appdata\\local\\programs\\python\\python311\\lib\\site-packages (from jsonschema>=3.0->altair<6,>=4.0->streamlit) (0.20.1)\n",
      "Requirement already satisfied: mdurl~=0.1 in c:\\users\\lokes\\appdata\\local\\programs\\python\\python311\\lib\\site-packages (from markdown-it-py>=2.2.0->rich<14,>=10.14.0->streamlit) (0.1.2)\n",
      "Requirement already satisfied: six>=1.5 in c:\\users\\lokes\\appdata\\roaming\\python\\python311\\site-packages (from python-dateutil>=2.8.2->pandas<3,>=1.4.0->streamlit) (1.16.0)\n"
     ]
    }
   ],
   "source": [
    "!pip install streamlit"
   ]
  },
  {
   "cell_type": "code",
   "execution_count": null,
   "id": "b3f4ff21",
   "metadata": {},
   "outputs": [],
   "source": []
  },
  {
   "cell_type": "code",
   "execution_count": 183,
   "id": "02d38509",
   "metadata": {},
   "outputs": [],
   "source": [
    "!pip install streamlit --quiet"
   ]
  },
  {
   "cell_type": "code",
   "execution_count": 184,
   "id": "37e2f1c8",
   "metadata": {
    "scrolled": true
   },
   "outputs": [
    {
     "name": "stdout",
     "output_type": "stream",
     "text": [
      "Name: scikit-learn\n",
      "Version: 1.5.2\n",
      "Summary: A set of python modules for machine learning and data mining\n",
      "Home-page: https://scikit-learn.org\n",
      "Author: \n",
      "Author-email: \n",
      "License: BSD 3-Clause License\n",
      "\n",
      "Copyright (c) 2007-2024 The scikit-learn developers.\n",
      "All rights reserved.\n",
      "\n",
      "Redistribution and use in source and binary forms, with or without\n",
      "modification, are permitted provided that the following conditions are met:\n",
      "\n",
      "* Redistributions of source code must retain the above copyright notice, this\n",
      "  list of conditions and the following disclaimer.\n",
      "\n",
      "* Redistributions in binary form must reproduce the above copyright notice,\n",
      "  this list of conditions and the following disclaimer in the documentation\n",
      "  and/or other materials provided with the distribution.\n",
      "\n",
      "* Neither the name of the copyright holder nor the names of its\n",
      "  contributors may be used to endorse or promote products derived from\n",
      "  this software without specific prior written permission.\n",
      "\n",
      "THIS SOFTWARE IS PROVIDED BY THE COPYRIGHT HOLDERS AND CONTRIBUTORS \"AS IS\"\n",
      "AND ANY EXPRESS OR IMPLIED WARRANTIES, INCLUDING, BUT NOT LIMITED TO, THE\n",
      "IMPLIED WARRANTIES OF MERCHANTABILITY AND FITNESS FOR A PARTICULAR PURPOSE ARE\n",
      "DISCLAIMED. IN NO EVENT SHALL THE COPYRIGHT HOLDER OR CONTRIBUTORS BE LIABLE\n",
      "FOR ANY DIRECT, INDIRECT, INCIDENTAL, SPECIAL, EXEMPLARY, OR CONSEQUENTIAL\n",
      "DAMAGES (INCLUDING, BUT NOT LIMITED TO, PROCUREMENT OF SUBSTITUTE GOODS OR\n",
      "SERVICES; LOSS OF USE, DATA, OR PROFITS; OR BUSINESS INTERRUPTION) HOWEVER\n",
      "CAUSED AND ON ANY THEORY OF LIABILITY, WHETHER IN CONTRACT, STRICT LIABILITY,\n",
      "OR TORT (INCLUDING NEGLIGENCE OR OTHERWISE) ARISING IN ANY WAY OUT OF THE USE\n",
      "OF THIS SOFTWARE, EVEN IF ADVISED OF THE POSSIBILITY OF SUCH DAMAGE.\n",
      "Location: c:\\Users\\lokes\\AppData\\Local\\Programs\\Python\\Python311\\Lib\\site-packages\n",
      "Requires: joblib, numpy, scipy, threadpoolctl\n",
      "Required-by: \n",
      "Note: you may need to restart the kernel to use updated packages.\n"
     ]
    }
   ],
   "source": [
    "pip show scikit-learn\n"
   ]
  },
  {
   "cell_type": "code",
   "execution_count": 185,
   "id": "b2d06eb0",
   "metadata": {},
   "outputs": [
    {
     "name": "stdout",
     "output_type": "stream",
     "text": [
      "Note: you may need to restart the kernel to use updated packages.\n"
     ]
    },
    {
     "name": "stderr",
     "output_type": "stream",
     "text": [
      "The syntax of the command is incorrect.\n"
     ]
    }
   ],
   "source": [
    "pip install scikit-learn==<version_number>\n"
   ]
  },
  {
   "cell_type": "code",
   "execution_count": 186,
   "id": "3e0d2dc7",
   "metadata": {},
   "outputs": [
    {
     "data": {
      "text/plain": [
       "['model.pkl']"
      ]
     },
     "execution_count": 186,
     "metadata": {},
     "output_type": "execute_result"
    }
   ],
   "source": [
    "import joblib\n",
    "# Assuming model is your trained model\n",
    "joblib.dump(model, 'model.pkl')\n"
   ]
  },
  {
   "cell_type": "code",
   "execution_count": 187,
   "id": "38c2bfc9",
   "metadata": {},
   "outputs": [],
   "source": [
    "import pickle\n",
    "# Saving model\n",
    "with open('model.pkl', 'wb') as f:\n",
    "    pickle.dump(model, f)\n",
    "\n",
    "# Loading model\n",
    "with open('model.pkl', 'rb') as f:\n",
    "    model = pickle.load(f)\n"
   ]
  },
  {
   "cell_type": "code",
   "execution_count": 188,
   "id": "a91b7c77",
   "metadata": {},
   "outputs": [
    {
     "name": "stdout",
     "output_type": "stream",
     "text": [
      "Requirement already satisfied: openpyxl in c:\\users\\lokes\\appdata\\local\\programs\\python\\python311\\lib\\site-packages (3.1.5)Note: you may need to restart the kernel to use updated packages.\n",
      "\n",
      "Requirement already satisfied: et-xmlfile in c:\\users\\lokes\\appdata\\local\\programs\\python\\python311\\lib\\site-packages (from openpyxl) (2.0.0)\n"
     ]
    }
   ],
   "source": [
    "pip install openpyxl"
   ]
  },
  {
   "cell_type": "code",
   "execution_count": 189,
   "id": "4b586474",
   "metadata": {},
   "outputs": [
    {
     "name": "stdout",
     "output_type": "stream",
     "text": [
      "Column names: [' acidity', ' back_pain', ' bladder_discomfort', ' breathlessness', ' burning_micturition', ' chest_pain', ' chills', ' constipation', ' continuous_sneezing', ' cough', ' cramps', ' fatigue', ' headache', ' high_fever', ' indigestion', ' joint_pain', ' mood_swings', ' muscle_wasting', ' muscle_weakness', ' neck_pain', ' pain_during_bowel_movements', ' patches_in_throat', ' pus_filled_pimples', ' shivering', ' skin_rash', ' stiff_neck', ' stomach_pain', ' sunken_eyes', ' vomiting', ' weakness_in_limbs', ' weight_gain', ' weight_loss', ' yellowish_skin', 'itching', ' abdominal_pain', ' acidity', ' anxiety', ' blackheads', ' bladder_discomfort', ' blister', ' breathlessness', ' bruising', ' chest_pain', ' chills', ' cold_hands_and_feets', ' cough', ' cramps', ' dehydration', ' dizziness', ' fatigue', ' foul_smell_of urine', ' headache', ' high_fever', ' indigestion', ' joint_pain', ' knee_pain', ' lethargy', ' loss_of_appetite', ' mood_swings', ' nausea', ' neck_pain', ' nodal_skin_eruptions', ' pain_during_bowel_movements', ' pain_in_anal_region', ' patches_in_throat', ' pus_filled_pimples', ' restlessness', ' shivering', ' skin_peeling', ' skin_rash', ' stiff_neck', ' stomach_pain', ' sunken_eyes', ' sweating', ' swelling_joints', ' ulcers_on_tongue', ' vomiting', ' weakness_in_limbs', ' weakness_of_one_body_side', ' weight_gain', ' weight_loss', ' yellowish_skin', ' abdominal_pain', ' altered_sensorium', ' anxiety', ' blackheads', ' blister', ' bloody_stool', ' blurred_and_distorted_vision', ' breathlessness', ' bruising', ' burning_micturition', ' chest_pain', ' chills', ' cold_hands_and_feets', ' continuous_feel_of_urine', ' cough', ' dark_urine', ' dehydration', ' diarrhoea', ' dischromic _patches', ' dizziness', ' extra_marital_contacts', ' fatigue', ' foul_smell_of urine', ' headache', ' high_fever', ' hip_joint_pain', ' joint_pain', ' knee_pain', ' lethargy', ' loss_of_appetite', ' loss_of_balance', ' mood_swings', ' movement_stiffness', ' nausea', ' neck_pain', ' nodal_skin_eruptions', ' obesity', ' pain_in_anal_region', ' red_sore_around_nose', ' restlessness', ' scurring', ' silver_like_dusting', ' skin_peeling', ' spinning_movements', ' stomach_pain', ' sweating', ' swelling_joints', ' swelling_of_stomach', ' ulcers_on_tongue', ' vomiting', ' watering_from_eyes', ' weakness_of_one_body_side', ' weight_loss', ' yellowish_skin', ' abdominal_pain', ' altered_sensorium', ' bloody_stool', ' blurred_and_distorted_vision', ' breathlessness', ' burning_micturition', ' chest_pain', ' continuous_feel_of_urine', ' cough', ' dark_urine', ' diarrhoea', ' dischromic _patches', ' distention_of_abdomen', ' dizziness', ' excessive_hunger', ' extra_marital_contacts', ' family_history', ' fatigue', ' headache', ' high_fever', ' hip_joint_pain', ' irregular_sugar_level', ' irritation_in_anus', ' lack_of_concentration', ' lethargy', ' loss_of_appetite', ' loss_of_balance', ' mood_swings', ' movement_stiffness', ' nausea', ' obesity', ' painful_walking', ' passage_of_gases', ' red_sore_around_nose', ' restlessness', ' scurring', ' silver_like_dusting', ' small_dents_in_nails', ' spinning_movements', ' spotting_ urination', ' sweating', ' swelling_joints', ' swelling_of_stomach', ' swollen_legs', ' vomiting', ' watering_from_eyes', ' weight_loss', ' yellow_crust_ooze', ' yellowing_of_eyes', ' yellowish_skin', 'nan']\n"
     ]
    }
   ],
   "source": [
    "from openpyxl import load_workbook\n",
    "\n",
    "# Load the workbook and select the sheet\n",
    "workbook = load_workbook('output.xlsx')\n",
    "sheet = workbook['Sheet1']  # Replace with your sheet name\n",
    "\n",
    "# Get column headers\n",
    "column_names = [cell.value for cell in sheet[1]]  # Assuming the first row has headers\n",
    "print(\"Column names:\", column_names)\n"
   ]
  },
  {
   "cell_type": "code",
   "execution_count": null,
   "id": "b5dd2e6a",
   "metadata": {},
   "outputs": [],
   "source": []
  },
  {
   "cell_type": "code",
   "execution_count": null,
   "id": "30441612",
   "metadata": {},
   "outputs": [],
   "source": []
  }
 ],
 "metadata": {
  "kernelspec": {
   "display_name": "Python 3",
   "language": "python",
   "name": "python3"
  },
  "language_info": {
   "codemirror_mode": {
    "name": "ipython",
    "version": 3
   },
   "file_extension": ".py",
   "mimetype": "text/x-python",
   "name": "python",
   "nbconvert_exporter": "python",
   "pygments_lexer": "ipython3",
   "version": "3.11.1"
  }
 },
 "nbformat": 4,
 "nbformat_minor": 5
}
